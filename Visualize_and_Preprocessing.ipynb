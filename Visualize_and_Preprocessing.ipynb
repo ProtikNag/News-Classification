{
  "nbformat": 4,
  "nbformat_minor": 0,
  "metadata": {
    "kernelspec": {
      "name": "python3",
      "display_name": "Python 3"
    },
    "language_info": {
      "codemirror_mode": {
        "name": "ipython",
        "version": 3
      },
      "file_extension": ".py",
      "mimetype": "text/x-python",
      "name": "python",
      "nbconvert_exporter": "python",
      "pygments_lexer": "ipython3",
      "version": "3.6.8"
    },
    "colab": {
      "name": "Visualize and Preprocessing.ipynb",
      "provenance": [],
      "machine_shape": "hm"
    },
    "accelerator": "GPU"
  },
  "cells": [
    {
      "cell_type": "markdown",
      "metadata": {
        "id": "mBeMR7I-Cv-c",
        "colab_type": "text"
      },
      "source": [
        "# Connect to Drive"
      ]
    },
    {
      "cell_type": "code",
      "metadata": {
        "id": "UKJ7RD2JCucN",
        "colab_type": "code",
        "colab": {}
      },
      "source": [
        "# #Step 1 part 1: connect to drive\n",
        "# !apt-get install -y -qq software-properties-common python-software-properties module-init-tools\n",
        "# !add-apt-repository -y ppa:alessandro-strada/ppa 2>&1 > /dev/null\n",
        "# !apt-get update -qq 2>&1 > /dev/null\n",
        "# !apt-get -y install -qq google-drive-ocamlfuse fuse\n",
        "# from google.colab import auth\n",
        "# auth.authenticate_user()\n",
        "# from oauth2client.client import GoogleCredentials\n",
        "# creds = GoogleCredentials.get_application_default()\n",
        "# import getpass\n",
        "# !google-drive-ocamlfuse -headless -id={creds.client_id} -secret={creds.client_secret} < /dev/null 2>&1 | grep URL\n",
        "# vcode = getpass.getpass()\n",
        "# !echo {vcode} | google-drive-ocamlfuse -headless -id={creds.client_id} -secret={creds.client_secret}"
      ],
      "execution_count": 0,
      "outputs": []
    },
    {
      "cell_type": "code",
      "metadata": {
        "id": "c0UK8OTxCzXx",
        "colab_type": "code",
        "colab": {}
      },
      "source": [
        "# !mkdir -p drive\n",
        "# !google-drive-ocamlfuse drive"
      ],
      "execution_count": 0,
      "outputs": []
    },
    {
      "cell_type": "markdown",
      "metadata": {
        "id": "QJNeLveMSzba",
        "colab_type": "text"
      },
      "source": [
        "# Import Packages"
      ]
    },
    {
      "cell_type": "code",
      "metadata": {
        "id": "Ye6kOap3Szbc",
        "colab_type": "code",
        "colab": {}
      },
      "source": [
        "import numpy as np\n",
        "import pandas as pd\n",
        "\n",
        "import os \n",
        "from os import walk\n",
        "from os import path\n",
        "\n",
        "import glob\n",
        "import sys\n",
        "import math\n",
        "import re\n",
        "\n",
        "%matplotlib inline\n",
        "import matplotlib.pyplot as plt\n",
        "import seaborn as sns\n",
        "\n",
        "from bs4 import BeautifulSoup\n",
        "\n",
        "from tensorflow.python.keras.preprocessing.text import Tokenizer\n",
        "from tensorflow.python.keras.preprocessing.sequence import pad_sequences\n",
        "\n",
        "from keras.models import Sequential, Model\n",
        "from keras.layers import Dense, Embedding, LSTM, GRU, Dropout, Flatten\n",
        "from keras.layers.embeddings import Embedding\n",
        "from keras import optimizers\n",
        "from keras import applications, optimizers\n",
        "from keras.utils import np_utils\n",
        "from keras.models import model_from_json\n",
        "from keras.models import load_model\n",
        "from keras.utils import plot_model"
      ],
      "execution_count": 0,
      "outputs": []
    },
    {
      "cell_type": "markdown",
      "metadata": {
        "id": "DPbbhzU9Szbf",
        "colab_type": "text"
      },
      "source": [
        "# Declare Paths"
      ]
    },
    {
      "cell_type": "code",
      "metadata": {
        "id": "Rwqw7Vb5Szbf",
        "colab_type": "code",
        "colab": {}
      },
      "source": [
        "Data = '/content/'\n",
        "# Data = '/media/protik/Drive E/Pipilika/DataSets/Data/'\n",
        "Codes = '/media/protik/Drive E/Pipilika/Codes/News Classification/'"
      ],
      "execution_count": 0,
      "outputs": []
    },
    {
      "cell_type": "markdown",
      "metadata": {
        "id": "4Zx1LlBhSzbi",
        "colab_type": "text"
      },
      "source": [
        "# Load DataFrame"
      ]
    },
    {
      "cell_type": "code",
      "metadata": {
        "id": "1heJOgTdSzbj",
        "colab_type": "code",
        "outputId": "f577de20-06cd-4ec6-c7a1-d13d5104be7b",
        "colab": {
          "base_uri": "https://localhost:8080/",
          "height": 195
        }
      },
      "source": [
        "df = pd.read_csv('{}{}'.format(Data,\"data.csv\"))\n",
        "df.head()"
      ],
      "execution_count": 0,
      "outputs": [
        {
          "output_type": "execute_result",
          "data": {
            "text/html": [
              "<div>\n",
              "<style scoped>\n",
              "    .dataframe tbody tr th:only-of-type {\n",
              "        vertical-align: middle;\n",
              "    }\n",
              "\n",
              "    .dataframe tbody tr th {\n",
              "        vertical-align: top;\n",
              "    }\n",
              "\n",
              "    .dataframe thead th {\n",
              "        text-align: right;\n",
              "    }\n",
              "</style>\n",
              "<table border=\"1\" class=\"dataframe\">\n",
              "  <thead>\n",
              "    <tr style=\"text-align: right;\">\n",
              "      <th></th>\n",
              "      <th>News</th>\n",
              "      <th>Class</th>\n",
              "    </tr>\n",
              "  </thead>\n",
              "  <tbody>\n",
              "    <tr>\n",
              "      <th>0</th>\n",
              "      <td>ঢাকা, অক্টোবর ০৭ (বিডিনিউজ টোয়েন্টিফোর ডটকম) -...</td>\n",
              "      <td>sports</td>\n",
              "    </tr>\n",
              "    <tr>\n",
              "      <th>1</th>\n",
              "      <td>যে বিশ্বকাপে হামেশাই ৩০০ পেরোনো ইনিংসের দেখা ম...</td>\n",
              "      <td>sports</td>\n",
              "    </tr>\n",
              "    <tr>\n",
              "      <th>2</th>\n",
              "      <td>ক্রিকেটের শ্রেষ্ঠত্ব বিচারের সর্বোচ্চ মঞ্চ হলো...</td>\n",
              "      <td>sports</td>\n",
              "    </tr>\n",
              "    <tr>\n",
              "      <th>3</th>\n",
              "      <td>আট বছর আগের দুঃস্মৃতি আজও বুকে শেল বিঁধিয়ে দে...</td>\n",
              "      <td>sports</td>\n",
              "    </tr>\n",
              "    <tr>\n",
              "      <th>4</th>\n",
              "      <td>ঢাকা, জানুয়ারি ৩০ (বিডিনিউজ টোয়েন্টিফোর ডটকম) ...</td>\n",
              "      <td>sports</td>\n",
              "    </tr>\n",
              "  </tbody>\n",
              "</table>\n",
              "</div>"
            ],
            "text/plain": [
              "                                                News   Class\n",
              "0  ঢাকা, অক্টোবর ০৭ (বিডিনিউজ টোয়েন্টিফোর ডটকম) -...  sports\n",
              "1  যে বিশ্বকাপে হামেশাই ৩০০ পেরোনো ইনিংসের দেখা ম...  sports\n",
              "2  ক্রিকেটের শ্রেষ্ঠত্ব বিচারের সর্বোচ্চ মঞ্চ হলো...  sports\n",
              "3  আট বছর আগের দুঃস্মৃতি আজও বুকে শেল বিঁধিয়ে দে...  sports\n",
              "4  ঢাকা, জানুয়ারি ৩০ (বিডিনিউজ টোয়েন্টিফোর ডটকম) ...  sports"
            ]
          },
          "metadata": {
            "tags": []
          },
          "execution_count": 28
        }
      ]
    },
    {
      "cell_type": "code",
      "metadata": {
        "id": "pBM-OpzDSzbm",
        "colab_type": "code",
        "outputId": "63c81184-092e-41fc-d37f-a1885facffe6",
        "colab": {
          "base_uri": "https://localhost:8080/",
          "height": 34
        }
      },
      "source": [
        "df.shape"
      ],
      "execution_count": 0,
      "outputs": [
        {
          "output_type": "execute_result",
          "data": {
            "text/plain": [
              "(22674, 2)"
            ]
          },
          "metadata": {
            "tags": []
          },
          "execution_count": 29
        }
      ]
    },
    {
      "cell_type": "markdown",
      "metadata": {
        "id": "nBdyLf0RSzbo",
        "colab_type": "text"
      },
      "source": [
        "# Analyse Data"
      ]
    },
    {
      "cell_type": "markdown",
      "metadata": {
        "id": "4A3GUK0oSzbp",
        "colab_type": "text"
      },
      "source": [
        "### Number of News for Each Group"
      ]
    },
    {
      "cell_type": "code",
      "metadata": {
        "id": "QuxT7eUISzbq",
        "colab_type": "code",
        "colab": {}
      },
      "source": [
        "def bar_plot(l):\n",
        "    keys, counts = np.unique(l, return_counts=True)\n",
        "    plt.barh(keys, counts)\n",
        "    plt.figure(figsize=(15,20))\n",
        "    plt.show()"
      ],
      "execution_count": 0,
      "outputs": []
    },
    {
      "cell_type": "code",
      "metadata": {
        "id": "abU7LumHSzbs",
        "colab_type": "code",
        "outputId": "75031669-bde6-4220-e4dd-58fe93892a22",
        "colab": {
          "base_uri": "https://localhost:8080/",
          "height": 286
        }
      },
      "source": [
        "classes = df['Class']\n",
        "bar_plot(classes)"
      ],
      "execution_count": 0,
      "outputs": [
        {
          "output_type": "display_data",
          "data": {
            "image/png": "[encoded data removed]",
            "text/plain": [
              "<Figure size 432x288 with 1 Axes>"
            ]
          },
          "metadata": {
            "tags": []
          }
        },
        {
          "output_type": "display_data",
          "data": {
            "text/plain": [
              "<Figure size 1080x1440 with 0 Axes>"
            ]
          },
          "metadata": {
            "tags": []
          }
        }
      ]
    },
    {
      "cell_type": "markdown",
      "metadata": {
        "id": "s9pbbH2WSzbv",
        "colab_type": "text"
      },
      "source": [
        "### Check for NaN Values"
      ]
    },
    {
      "cell_type": "code",
      "metadata": {
        "id": "NHCdI7fmSzbv",
        "colab_type": "code",
        "outputId": "e4a0d7a3-3a0b-4c85-ef43-130a86fe52cb",
        "colab": {
          "base_uri": "https://localhost:8080/",
          "height": 34
        }
      },
      "source": [
        "news_length = df['News'].str.len()\n",
        "news_length = list(news_length)\n",
        "\n",
        "found = False\n",
        "\n",
        "for i in range(0,len(news_length)):\n",
        "    x = news_length[i]\n",
        "    if(np.isnan(x)):\n",
        "        found = True\n",
        "        print(\"Found a NaN value here: \", i)\n",
        "        print(\"Class for this NaN value is: \", df['Class'][i])\n",
        "        \n",
        "if(not found):\n",
        "    print(\"No NaN Value Found\")"
      ],
      "execution_count": 0,
      "outputs": [
        {
          "output_type": "stream",
          "text": [
            "No NaN Value Found\n"
          ],
          "name": "stdout"
        }
      ]
    },
    {
      "cell_type": "markdown",
      "metadata": {
        "id": "GWT_nS4DSzby",
        "colab_type": "text"
      },
      "source": [
        "### News Length Distribution"
      ]
    },
    {
      "cell_type": "code",
      "metadata": {
        "id": "eY59ODnuSzby",
        "colab_type": "code",
        "outputId": "f64550d9-6779-4480-f205-b5dafdf1dc13",
        "colab": {
          "base_uri": "https://localhost:8080/",
          "height": 300
        }
      },
      "source": [
        "sns.distplot(df['News'].str.len(), hist=False, kde=True, \n",
        "             bins=int(180/5), color = 'darkblue', \n",
        "             hist_kws={'edgecolor':'darkblue'},\n",
        "             kde_kws={'linewidth': 7})"
      ],
      "execution_count": 0,
      "outputs": [
        {
          "output_type": "execute_result",
          "data": {
            "text/plain": [
              "<matplotlib.axes._subplots.AxesSubplot at 0x7f373718fa20>"
            ]
          },
          "metadata": {
            "tags": []
          },
          "execution_count": 33
        },
        {
          "output_type": "display_data",
          "data": {
            "image/png": "[encoded data removed]",
            "text/plain": [
              "<Figure size 432x288 with 1 Axes>"
            ]
          },
          "metadata": {
            "tags": []
          }
        }
      ]
    },
    {
      "cell_type": "markdown",
      "metadata": {
        "id": "b1COzLy4Szb1",
        "colab_type": "text"
      },
      "source": [
        "# Preprocessing"
      ]
    },
    {
      "cell_type": "markdown",
      "metadata": {
        "id": "QWNTfp98Szb1",
        "colab_type": "text"
      },
      "source": [
        "### Remove HTML Tags"
      ]
    },
    {
      "cell_type": "code",
      "metadata": {
        "id": "wF3UeeinSzb2",
        "colab_type": "code",
        "colab": {}
      },
      "source": [
        "def remove_html_tags(raw_review):\n",
        "    review_text = BeautifulSoup(raw_review,'lxml').get_text()\n",
        "    return review_text\n",
        "\n",
        "df['News'] = [remove_html_tags(i) for i in df['News']]"
      ],
      "execution_count": 0,
      "outputs": []
    },
    {
      "cell_type": "markdown",
      "metadata": {
        "id": "AKz11XuJSzb4",
        "colab_type": "text"
      },
      "source": [
        "### Remove Punctuations, Brackets and Special Characters"
      ]
    },
    {
      "cell_type": "code",
      "metadata": {
        "id": "MfkUCynMSzb5",
        "colab_type": "code",
        "colab": {}
      },
      "source": [
        "punctuation_signs = list('!\"#$%&()*+,-./:;<=>?@[\\\\]^_`{|}~\\t\\n')\n",
        "\n",
        "for punct_sign in punctuation_signs:\n",
        "    df['News'] = df['News'].str.replace(punct_sign, ' ')"
      ],
      "execution_count": 0,
      "outputs": []
    },
    {
      "cell_type": "markdown",
      "metadata": {
        "id": "Z3B9XiwfSzb7",
        "colab_type": "text"
      },
      "source": [
        "### Remove Escape Characters"
      ]
    },
    {
      "cell_type": "code",
      "metadata": {
        "id": "SIItvKWGSzb8",
        "colab_type": "code",
        "colab": {}
      },
      "source": [
        "def escape_ansi(line):\n",
        "    line = line.replace('\\n','')\n",
        "    line = line.replace('\\t','')\n",
        "    line = line.replace(\"\\'\",'')\n",
        "    line = line.replace(\"\\\"\",'')\n",
        "    line = line.replace(\"‘\",'')\n",
        "    line = line.replace(\"’\",'')\n",
        "    line = line.replace(\"  \",' ')\n",
        "    line = line.replace(\"\\xa0\",' ')\n",
        "    line = line.replace(\"\\u2008\",' ')\n",
        "    return line\n",
        "\n",
        "df['News'] = [escape_ansi(i) for i in df['News']]"
      ],
      "execution_count": 0,
      "outputs": []
    },
    {
      "cell_type": "markdown",
      "metadata": {
        "id": "OBVcSF9CSzb-",
        "colab_type": "text"
      },
      "source": [
        "### Remove Numbers"
      ]
    },
    {
      "cell_type": "code",
      "metadata": {
        "id": "Qf80K8dsSzb_",
        "colab_type": "code",
        "colab": {}
      },
      "source": [
        "def escape_ansi(line):\n",
        "    line = re.sub('[০-৯]+', 'সংখ্যা', line)\n",
        "    line = re.sub('[0-9]+', 'সংখ্যা', line)\n",
        "    return line\n",
        "\n",
        "df['News'] = [escape_ansi(i) for i in df['News']]"
      ],
      "execution_count": 0,
      "outputs": []
    },
    {
      "cell_type": "markdown",
      "metadata": {
        "id": "kwtWvh3fSzcB",
        "colab_type": "text"
      },
      "source": [
        "### Embedding"
      ]
    },
    {
      "cell_type": "code",
      "metadata": {
        "id": "qerdOnuWSzcC",
        "colab_type": "code",
        "colab": {}
      },
      "source": [
        "def class_embedding(i):\n",
        "    if(i=='accident and crime'):\n",
        "        return 0\n",
        "    elif(i=='economics'):\n",
        "        return 1\n",
        "    elif(i=='entertainment'):\n",
        "        return 2\n",
        "    elif(i=='international'):\n",
        "        return 3\n",
        "    elif(i=='politics'):\n",
        "        return 4\n",
        "    elif(i=='science'):\n",
        "        return 5\n",
        "    elif(i=='sports'):\n",
        "        return 6\n",
        "    elif(i=='weather'):\n",
        "        return 7\n",
        "        \n",
        "df['Class'] = [class_embedding(i) for i in df['Class']]"
      ],
      "execution_count": 0,
      "outputs": []
    },
    {
      "cell_type": "markdown",
      "metadata": {
        "id": "od4rdUYWSzcE",
        "colab_type": "text"
      },
      "source": [
        "### Shuffle DataSet"
      ]
    },
    {
      "cell_type": "code",
      "metadata": {
        "id": "95TVMDAMSzcE",
        "colab_type": "code",
        "colab": {}
      },
      "source": [
        "df = df.sample(frac=1).reset_index(drop=True)"
      ],
      "execution_count": 0,
      "outputs": []
    },
    {
      "cell_type": "code",
      "metadata": {
        "id": "JjeA_9Q9SzcH",
        "colab_type": "code",
        "outputId": "97903097-77a2-4286-d7c9-d3b9cc94b91f",
        "colab": {
          "base_uri": "https://localhost:8080/",
          "height": 343
        }
      },
      "source": [
        "df.head(10)"
      ],
      "execution_count": 0,
      "outputs": [
        {
          "output_type": "execute_result",
          "data": {
            "text/html": [
              "<div>\n",
              "<style scoped>\n",
              "    .dataframe tbody tr th:only-of-type {\n",
              "        vertical-align: middle;\n",
              "    }\n",
              "\n",
              "    .dataframe tbody tr th {\n",
              "        vertical-align: top;\n",
              "    }\n",
              "\n",
              "    .dataframe thead th {\n",
              "        text-align: right;\n",
              "    }\n",
              "</style>\n",
              "<table border=\"1\" class=\"dataframe\">\n",
              "  <thead>\n",
              "    <tr style=\"text-align: right;\">\n",
              "      <th></th>\n",
              "      <th>News</th>\n",
              "      <th>Class</th>\n",
              "    </tr>\n",
              "  </thead>\n",
              "  <tbody>\n",
              "    <tr>\n",
              "      <th>0</th>\n",
              "      <td>ঢাকা আগস্ট সংখ্যা বিডিনিউজ টোয়েন্টিফোর ডটকম  ঢ...</td>\n",
              "      <td>7</td>\n",
              "    </tr>\n",
              "    <tr>\n",
              "      <th>1</th>\n",
              "      <td>ভারতের পশ্চিমবঙ্গে সোয়াইন ফ্লুতে আক্রান্ত হয়ে...</td>\n",
              "      <td>3</td>\n",
              "    </tr>\n",
              "    <tr>\n",
              "      <th>2</th>\n",
              "      <td>বাংলাদেশের রপ্তানিমুখী শিল্পকে সহায়তা দিতে বিশ...</td>\n",
              "      <td>1</td>\n",
              "    </tr>\n",
              "    <tr>\n",
              "      <th>3</th>\n",
              "      <td>মঈনুল হক চৌধুরী শহীদুল ইসলাম আশিক হোসেন ও আবুল...</td>\n",
              "      <td>5</td>\n",
              "    </tr>\n",
              "    <tr>\n",
              "      <th>4</th>\n",
              "      <td>জানুয়ারিতে ফ্রান্সের প্যারিসে সন্ত্রাসী হামলা...</td>\n",
              "      <td>3</td>\n",
              "    </tr>\n",
              "    <tr>\n",
              "      <th>5</th>\n",
              "      <td>মুক্তিযুদ্ধবিষয়কমন্ত্রী আ ক ম মোজাম্মেল হক মু...</td>\n",
              "      <td>4</td>\n",
              "    </tr>\n",
              "    <tr>\n",
              "      <th>6</th>\n",
              "      <td>সারা দেশের অধিকাংশ এলাকায় আরও বৃষ্টি হতে পারে...</td>\n",
              "      <td>7</td>\n",
              "    </tr>\n",
              "    <tr>\n",
              "      <th>7</th>\n",
              "      <td>ফেনীর সীমান্ত এলাকা ছাগলনাইয়ার যশপুর থেকে বর্...</td>\n",
              "      <td>0</td>\n",
              "    </tr>\n",
              "    <tr>\n",
              "      <th>8</th>\n",
              "      <td>ইরানের পরমাণু কর্মসূচির অগ্রগতি নিয়ে ইসরায়েলি ...</td>\n",
              "      <td>3</td>\n",
              "    </tr>\n",
              "    <tr>\n",
              "      <th>9</th>\n",
              "      <td>প্রযুক্তিবিষয়ক সাইট ম্যাকরিউমার্স জানিয়েছে সংখ...</td>\n",
              "      <td>5</td>\n",
              "    </tr>\n",
              "  </tbody>\n",
              "</table>\n",
              "</div>"
            ],
            "text/plain": [
              "                                                News  Class\n",
              "0  ঢাকা আগস্ট সংখ্যা বিডিনিউজ টোয়েন্টিফোর ডটকম  ঢ...      7\n",
              "1  ভারতের পশ্চিমবঙ্গে সোয়াইন ফ্লুতে আক্রান্ত হয়ে...      3\n",
              "2  বাংলাদেশের রপ্তানিমুখী শিল্পকে সহায়তা দিতে বিশ...      1\n",
              "3  মঈনুল হক চৌধুরী শহীদুল ইসলাম আশিক হোসেন ও আবুল...      5\n",
              "4  জানুয়ারিতে ফ্রান্সের প্যারিসে সন্ত্রাসী হামলা...      3\n",
              "5  মুক্তিযুদ্ধবিষয়কমন্ত্রী আ ক ম মোজাম্মেল হক মু...      4\n",
              "6  সারা দেশের অধিকাংশ এলাকায় আরও বৃষ্টি হতে পারে...      7\n",
              "7  ফেনীর সীমান্ত এলাকা ছাগলনাইয়ার যশপুর থেকে বর্...      0\n",
              "8  ইরানের পরমাণু কর্মসূচির অগ্রগতি নিয়ে ইসরায়েলি ...      3\n",
              "9  প্রযুক্তিবিষয়ক সাইট ম্যাকরিউমার্স জানিয়েছে সংখ...      5"
            ]
          },
          "metadata": {
            "tags": []
          },
          "execution_count": 40
        }
      ]
    },
    {
      "cell_type": "markdown",
      "metadata": {
        "id": "asp9h9qzSzcJ",
        "colab_type": "text"
      },
      "source": [
        "### Splitting Train and Test Set"
      ]
    },
    {
      "cell_type": "code",
      "metadata": {
        "id": "RJemIx81SzcK",
        "colab_type": "code",
        "colab": {}
      },
      "source": [
        "x_train = df.loc[:15999, 'News'].values\n",
        "y_train = df.loc[:15999, 'Class'].values\n",
        "x_test = df.loc[16000:, 'News'].values\n",
        "y_test = df.loc[16000:, 'Class'].values"
      ],
      "execution_count": 0,
      "outputs": []
    },
    {
      "cell_type": "code",
      "metadata": {
        "id": "F5dkiqWoSzcN",
        "colab_type": "code",
        "outputId": "c0db41d4-bc04-498a-e95b-11ddabaca463",
        "colab": {
          "base_uri": "https://localhost:8080/",
          "height": 34
        }
      },
      "source": [
        "tokenizer_obj = Tokenizer()\n",
        "total_news = df['News'].tolist()\n",
        "tokenizer_obj.fit_on_texts(total_news)\n",
        "\n",
        "max_length = max([len(s.split()) for s in total_news])\n",
        "vocab_size = len(tokenizer_obj.word_index) + 1\n",
        "\n",
        "print(max_length,vocab_size)\n",
        "\n",
        "x_train_tokens = tokenizer_obj.texts_to_sequences(x_train)\n",
        "x_test_tokens = tokenizer_obj.texts_to_sequences(x_test)\n",
        "\n",
        "x_train_pad = pad_sequences(x_train_tokens, maxlen=max_length, padding='post')\n",
        "x_test_pad = pad_sequences(x_test_tokens, maxlen=max_length, padding='post')"
      ],
      "execution_count": 0,
      "outputs": [
        {
          "output_type": "stream",
          "text": [
            "8286 204315\n"
          ],
          "name": "stdout"
        }
      ]
    },
    {
      "cell_type": "code",
      "metadata": {
        "id": "SYQWKziLZ15g",
        "colab_type": "code",
        "outputId": "173901d0-7528-4717-a215-306004d649b4",
        "colab": {
          "base_uri": "https://localhost:8080/",
          "height": 101
        }
      },
      "source": [
        "print(len(x_test_pad))\n",
        "print(len(x_train_pad))\n",
        "print(y_train[0])\n",
        "print(y_test[0])\n",
        "print(len(y_test))"
      ],
      "execution_count": 0,
      "outputs": [
        {
          "output_type": "stream",
          "text": [
            "6674\n",
            "16000\n",
            "7\n",
            "2\n",
            "6674\n"
          ],
          "name": "stdout"
        }
      ]
    },
    {
      "cell_type": "markdown",
      "metadata": {
        "id": "kGTf8YySSzcQ",
        "colab_type": "text"
      },
      "source": [
        "# Build Model"
      ]
    },
    {
      "cell_type": "code",
      "metadata": {
        "id": "lt3bZyqSSzcR",
        "colab_type": "code",
        "colab": {}
      },
      "source": [
        "EMBEDDING_DIM = 100\n",
        "\n",
        "model = Sequential()\n",
        "model.add(Embedding(vocab_size, EMBEDDING_DIM, input_length=max_length))\n",
        "model.add(GRU(units=512))\n",
        "model.add(Dense(8, activation='softmax'))\n",
        "\n",
        "# optimizer \n",
        "# adam = optimizers.Adam(lr=0.001, beta_1=0.9, beta_2=0.999, epsilon=None, decay=0.0, amsgrad=False)\n",
        "\n",
        "model.compile(loss='categorical_crossentropy', optimizer='adam', metrics=['accuracy'])"
      ],
      "execution_count": 0,
      "outputs": []
    },
    {
      "cell_type": "markdown",
      "metadata": {
        "id": "S6sp7xkPSzcT",
        "colab_type": "text"
      },
      "source": [
        "# Train Model"
      ]
    },
    {
      "cell_type": "markdown",
      "metadata": {
        "id": "L-iuQEWJICw0",
        "colab_type": "text"
      },
      "source": [
        "### One Hot Encoding"
      ]
    },
    {
      "cell_type": "code",
      "metadata": {
        "id": "7JnaDncVIBlC",
        "colab_type": "code",
        "colab": {}
      },
      "source": [
        "def one_hot(y_train, y_test, n_classes):\n",
        "    y_train = np_utils.to_categorical(y_train, n_classes)\n",
        "    y_test = np_utils.to_categorical(y_test, n_classes)\n",
        "\n",
        "    return y_train, y_test"
      ],
      "execution_count": 0,
      "outputs": []
    },
    {
      "cell_type": "code",
      "metadata": {
        "colab_type": "code",
        "outputId": "bbf75c89-d8ef-4e5e-c60f-6152b057e5e7",
        "id": "NqWQeF9uVVEH",
        "colab": {
          "base_uri": "https://localhost:8080/"
        }
      },
      "source": [
        "y_train, y_test = one_hot(y_train, y_test, 8)\n",
        "\n",
        "model.fit(x_train_pad, y_train, batch_size=64, epochs=20, validation_data=(x_test_pad,y_test), verbose=2)"
      ],
      "execution_count": 0,
      "outputs": [
        {
          "output_type": "stream",
          "text": [
            "WARNING:tensorflow:From /usr/local/lib/python3.6/dist-packages/tensorflow/python/ops/math_grad.py:1250: add_dispatch_support.<locals>.wrapper (from tensorflow.python.ops.array_ops) is deprecated and will be removed in a future version.\n",
            "Instructions for updating:\n",
            "Use tf.where in 2.0, which has the same broadcast rule as np.where\n",
            "WARNING:tensorflow:From /usr/local/lib/python3.6/dist-packages/keras/backend/tensorflow_backend.py:1033: The name tf.assign_add is deprecated. Please use tf.compat.v1.assign_add instead.\n",
            "\n",
            "Train on 16000 samples, validate on 6674 samples\n",
            "Epoch 1/20\n",
            " - 3221s - loss: 2.0645 - acc: 0.1812 - val_loss: 2.0619 - val_acc: 0.1826\n",
            "Epoch 2/20\n",
            " - 3106s - loss: 2.0630 - acc: 0.1823 - val_loss: 2.0639 - val_acc: 0.1826\n",
            "Epoch 3/20\n",
            " - 3063s - loss: 2.0631 - acc: 0.1823 - val_loss: 2.0645 - val_acc: 0.1826\n",
            "Epoch 4/20\n",
            " - 3081s - loss: 2.0621 - acc: 0.1823 - val_loss: 2.0640 - val_acc: 0.1826\n",
            "Epoch 5/20\n",
            " - 3106s - loss: 2.0626 - acc: 0.1823 - val_loss: 2.0625 - val_acc: 0.1826\n",
            "Epoch 6/20\n",
            " - 3163s - loss: 2.0623 - acc: 0.1823 - val_loss: 2.0623 - val_acc: 0.1826\n",
            "Epoch 7/20\n",
            " - 3244s - loss: 2.0622 - acc: 0.1823 - val_loss: 2.0636 - val_acc: 0.1826\n",
            "Epoch 8/20\n",
            " - 3255s - loss: 2.0678 - acc: 0.1799 - val_loss: 2.0617 - val_acc: 0.1826\n",
            "Epoch 9/20\n"
          ],
          "name": "stdout"
        }
      ]
    }
  ]
}