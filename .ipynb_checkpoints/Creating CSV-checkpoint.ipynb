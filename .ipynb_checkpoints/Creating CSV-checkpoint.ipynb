{
 "cells": [
  {
   "cell_type": "markdown",
   "metadata": {},
   "source": [
    "# Import Packages"
   ]
  },
  {
   "cell_type": "code",
   "execution_count": 1,
   "metadata": {
    "collapsed": true
   },
   "outputs": [],
   "source": [
    "import numpy as np\n",
    "import pandas as pd\n",
    "\n",
    "import os \n",
    "from os import walk\n",
    "from os import path\n",
    "\n",
    "import glob\n",
    "import sys"
   ]
  },
  {
   "cell_type": "markdown",
   "metadata": {},
   "source": [
    "# Set Paths"
   ]
  },
  {
   "cell_type": "code",
   "execution_count": 2,
   "metadata": {
    "collapsed": true
   },
   "outputs": [],
   "source": [
    "Data = '/media/protik/Drive E/Pipilika/DataSets/Data/'\n",
    "Codes = '/media/protik/Drive E/Pipilika/Codes/News Classification/'"
   ]
  },
  {
   "cell_type": "markdown",
   "metadata": {},
   "source": [
    "# Classes"
   ]
  },
  {
   "cell_type": "code",
   "execution_count": 3,
   "metadata": {},
   "outputs": [
    {
     "name": "stdout",
     "output_type": "stream",
     "text": [
      "['sports', 'politics', 'science', 'weather', 'entertainment', 'accident and crime', 'economics', 'international']\n",
      "Number of Classnames:  8\n"
     ]
    }
   ],
   "source": [
    "classnames = []\n",
    "for (dirpath, dirnames, filenames) in walk(Data):\n",
    "    classnames.extend(dirnames)\n",
    "    break\n",
    "print(classnames)\n",
    "print(\"Number of Classnames: \",len(classnames))"
   ]
  },
  {
   "cell_type": "markdown",
   "metadata": {},
   "source": [
    "# Create a CSV File"
   ]
  },
  {
   "cell_type": "code",
   "execution_count": 4,
   "metadata": {},
   "outputs": [
    {
     "name": "stdout",
     "output_type": "stream",
     "text": [
      "22675\n"
     ]
    }
   ],
   "source": [
    "data_path = [(Data+i+'/') for i in classnames]\n",
    "paths = ['{}{}'.format(folder,\"*.txt\") for folder in data_path]\n",
    "files = []\n",
    "for i in paths:\n",
    "    xx = glob.glob(i)\n",
    "    files = files + xx\n",
    "print(len(files))"
   ]
  },
  {
   "cell_type": "code",
   "execution_count": 5,
   "metadata": {},
   "outputs": [
    {
     "name": "stdout",
     "output_type": "stream",
     "text": [
      "Length of Contents:  22675\n",
      "Length of Content Classes:  22675\n"
     ]
    }
   ],
   "source": [
    "content = []\n",
    "content_class = []\n",
    "\n",
    "def get_classname(string):\n",
    "    directory_name = os.path.dirname(string)\n",
    "    class_name = os.path.basename(directory_name)\n",
    "    return class_name\n",
    "\n",
    "for i in files:\n",
    "    f = open(i, \"r\")\n",
    "    news = f.read()\n",
    "    content.append(news)\n",
    "    content_class.append(get_classname(i))\n",
    "    f.close()\n",
    "    \n",
    "print(\"Length of Contents: \",len(content))\n",
    "print(\"Length of Content Classes: \", len(content_class))"
   ]
  },
  {
   "cell_type": "code",
   "execution_count": 6,
   "metadata": {
    "collapsed": true
   },
   "outputs": [],
   "source": [
    "d = {'News': content, 'Class': content_class}\n",
    "df = pd.DataFrame(d)"
   ]
  },
  {
   "cell_type": "code",
   "execution_count": 7,
   "metadata": {},
   "outputs": [
    {
     "data": {
      "text/html": [
       "<div>\n",
       "<style scoped>\n",
       "    .dataframe tbody tr th:only-of-type {\n",
       "        vertical-align: middle;\n",
       "    }\n",
       "\n",
       "    .dataframe tbody tr th {\n",
       "        vertical-align: top;\n",
       "    }\n",
       "\n",
       "    .dataframe thead th {\n",
       "        text-align: right;\n",
       "    }\n",
       "</style>\n",
       "<table border=\"1\" class=\"dataframe\">\n",
       "  <thead>\n",
       "    <tr style=\"text-align: right;\">\n",
       "      <th></th>\n",
       "      <th>News</th>\n",
       "      <th>Class</th>\n",
       "    </tr>\n",
       "  </thead>\n",
       "  <tbody>\n",
       "    <tr>\n",
       "      <th>0</th>\n",
       "      <td>ঢাকা, অক্টোবর ০৭ (বিডিনিউজ টোয়েন্টিফোর ডটকম) -...</td>\n",
       "      <td>sports</td>\n",
       "    </tr>\n",
       "    <tr>\n",
       "      <th>1</th>\n",
       "      <td>যে বিশ্বকাপে হামেশাই ৩০০ পেরোনো ইনিংসের দেখা ম...</td>\n",
       "      <td>sports</td>\n",
       "    </tr>\n",
       "    <tr>\n",
       "      <th>2</th>\n",
       "      <td>ক্রিকেটের শ্রেষ্ঠত্ব বিচারের সর্বোচ্চ মঞ্চ হলো...</td>\n",
       "      <td>sports</td>\n",
       "    </tr>\n",
       "    <tr>\n",
       "      <th>3</th>\n",
       "      <td>আট বছর আগের দুঃস্মৃতি আজও বুকে শেল বিঁধিয়ে দে...</td>\n",
       "      <td>sports</td>\n",
       "    </tr>\n",
       "    <tr>\n",
       "      <th>4</th>\n",
       "      <td>ঢাকা, জানুয়ারি ৩০ (বিডিনিউজ টোয়েন্টিফোর ডটকম) ...</td>\n",
       "      <td>sports</td>\n",
       "    </tr>\n",
       "  </tbody>\n",
       "</table>\n",
       "</div>"
      ],
      "text/plain": [
       "                                                News   Class\n",
       "0  ঢাকা, অক্টোবর ০৭ (বিডিনিউজ টোয়েন্টিফোর ডটকম) -...  sports\n",
       "1  যে বিশ্বকাপে হামেশাই ৩০০ পেরোনো ইনিংসের দেখা ম...  sports\n",
       "2  ক্রিকেটের শ্রেষ্ঠত্ব বিচারের সর্বোচ্চ মঞ্চ হলো...  sports\n",
       "3  আট বছর আগের দুঃস্মৃতি আজও বুকে শেল বিঁধিয়ে দে...  sports\n",
       "4  ঢাকা, জানুয়ারি ৩০ (বিডিনিউজ টোয়েন্টিফোর ডটকম) ...  sports"
      ]
     },
     "execution_count": 7,
     "metadata": {},
     "output_type": "execute_result"
    }
   ],
   "source": [
    "df.head(5)"
   ]
  },
  {
   "cell_type": "code",
   "execution_count": 8,
   "metadata": {},
   "outputs": [
    {
     "name": "stdout",
     "output_type": "stream",
     "text": [
      "Shape:  (22675, 2)\n"
     ]
    }
   ],
   "source": [
    "print(\"Shape: \",df.shape)"
   ]
  },
  {
   "cell_type": "code",
   "execution_count": 9,
   "metadata": {
    "collapsed": true
   },
   "outputs": [],
   "source": [
    "export_csv = df.to_csv (r'{}{}'.format(Data,\"data.csv\"), index = None, header=True)"
   ]
  },
  {
   "cell_type": "markdown",
   "metadata": {},
   "source": [
    "# Load DataFrame"
   ]
  },
  {
   "cell_type": "code",
   "execution_count": 10,
   "metadata": {},
   "outputs": [
    {
     "data": {
      "text/html": [
       "<div>\n",
       "<style scoped>\n",
       "    .dataframe tbody tr th:only-of-type {\n",
       "        vertical-align: middle;\n",
       "    }\n",
       "\n",
       "    .dataframe tbody tr th {\n",
       "        vertical-align: top;\n",
       "    }\n",
       "\n",
       "    .dataframe thead th {\n",
       "        text-align: right;\n",
       "    }\n",
       "</style>\n",
       "<table border=\"1\" class=\"dataframe\">\n",
       "  <thead>\n",
       "    <tr style=\"text-align: right;\">\n",
       "      <th></th>\n",
       "      <th>News</th>\n",
       "      <th>Class</th>\n",
       "    </tr>\n",
       "  </thead>\n",
       "  <tbody>\n",
       "    <tr>\n",
       "      <th>0</th>\n",
       "      <td>ঢাকা, অক্টোবর ০৭ (বিডিনিউজ টোয়েন্টিফোর ডটকম) -...</td>\n",
       "      <td>sports</td>\n",
       "    </tr>\n",
       "    <tr>\n",
       "      <th>1</th>\n",
       "      <td>যে বিশ্বকাপে হামেশাই ৩০০ পেরোনো ইনিংসের দেখা ম...</td>\n",
       "      <td>sports</td>\n",
       "    </tr>\n",
       "    <tr>\n",
       "      <th>2</th>\n",
       "      <td>ক্রিকেটের শ্রেষ্ঠত্ব বিচারের সর্বোচ্চ মঞ্চ হলো...</td>\n",
       "      <td>sports</td>\n",
       "    </tr>\n",
       "    <tr>\n",
       "      <th>3</th>\n",
       "      <td>আট বছর আগের দুঃস্মৃতি আজও বুকে শেল বিঁধিয়ে দে...</td>\n",
       "      <td>sports</td>\n",
       "    </tr>\n",
       "    <tr>\n",
       "      <th>4</th>\n",
       "      <td>ঢাকা, জানুয়ারি ৩০ (বিডিনিউজ টোয়েন্টিফোর ডটকম) ...</td>\n",
       "      <td>sports</td>\n",
       "    </tr>\n",
       "  </tbody>\n",
       "</table>\n",
       "</div>"
      ],
      "text/plain": [
       "                                                News   Class\n",
       "0  ঢাকা, অক্টোবর ০৭ (বিডিনিউজ টোয়েন্টিফোর ডটকম) -...  sports\n",
       "1  যে বিশ্বকাপে হামেশাই ৩০০ পেরোনো ইনিংসের দেখা ম...  sports\n",
       "2  ক্রিকেটের শ্রেষ্ঠত্ব বিচারের সর্বোচ্চ মঞ্চ হলো...  sports\n",
       "3  আট বছর আগের দুঃস্মৃতি আজও বুকে শেল বিঁধিয়ে দে...  sports\n",
       "4  ঢাকা, জানুয়ারি ৩০ (বিডিনিউজ টোয়েন্টিফোর ডটকম) ...  sports"
      ]
     },
     "execution_count": 10,
     "metadata": {},
     "output_type": "execute_result"
    }
   ],
   "source": [
    "new_df = pd.read_csv('{}{}'.format(Data,\"data.csv\"))\n",
    "new_df.head()"
   ]
  },
  {
   "cell_type": "code",
   "execution_count": 11,
   "metadata": {},
   "outputs": [
    {
     "name": "stdout",
     "output_type": "stream",
     "text": [
      "(22675, 2)\n"
     ]
    }
   ],
   "source": [
    "print(new_df.shape)"
   ]
  }
 ],
 "metadata": {
  "kernelspec": {
   "display_name": "Python 3",
   "language": "python",
   "name": "python3"
  },
  "language_info": {
   "codemirror_mode": {
    "name": "ipython",
    "version": 3
   },
   "file_extension": ".py",
   "mimetype": "text/x-python",
   "name": "python",
   "nbconvert_exporter": "python",
   "pygments_lexer": "ipython3",
   "version": "3.6.3"
  }
 },
 "nbformat": 4,
 "nbformat_minor": 2
}
