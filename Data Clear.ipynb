{
 "cells": [
  {
   "cell_type": "code",
   "execution_count": 87,
   "metadata": {},
   "outputs": [],
   "source": [
    "data = './data/data.csv'"
   ]
  },
  {
   "cell_type": "code",
   "execution_count": 88,
   "metadata": {},
   "outputs": [],
   "source": [
    "import numpy as np\n",
    "import pandas as pd\n",
    "\n",
    "import os \n",
    "from os import walk\n",
    "from os import path\n",
    "\n",
    "import glob\n",
    "import sys\n",
    "import math\n",
    "import re\n",
    "\n",
    "%matplotlib inline\n",
    "import matplotlib.pyplot as plt\n",
    "import seaborn as sns\n",
    "\n",
    "from bs4 import BeautifulSoup\n",
    "\n",
    "from tensorflow.python.keras.preprocessing.text import Tokenizer\n",
    "from tensorflow.python.keras.preprocessing.sequence import pad_sequences\n",
    "\n",
    "from keras.models import Sequential, Model\n",
    "from keras.layers import Dense, Embedding, LSTM, GRU, Dropout, Flatten\n",
    "from keras.layers.embeddings import Embedding\n",
    "from keras import optimizers\n",
    "from keras import applications, optimizers\n",
    "from keras.utils import np_utils\n",
    "from keras.models import model_from_json\n",
    "from keras.models import load_model\n",
    "from keras.utils import plot_model"
   ]
  },
  {
   "cell_type": "code",
   "execution_count": 113,
   "metadata": {},
   "outputs": [],
   "source": [
    "df = pd.read_csv(data)"
   ]
  },
  {
   "cell_type": "code",
   "execution_count": 114,
   "metadata": {},
   "outputs": [
    {
     "data": {
      "text/html": [
       "<div>\n",
       "<style scoped>\n",
       "    .dataframe tbody tr th:only-of-type {\n",
       "        vertical-align: middle;\n",
       "    }\n",
       "\n",
       "    .dataframe tbody tr th {\n",
       "        vertical-align: top;\n",
       "    }\n",
       "\n",
       "    .dataframe thead th {\n",
       "        text-align: right;\n",
       "    }\n",
       "</style>\n",
       "<table border=\"1\" class=\"dataframe\">\n",
       "  <thead>\n",
       "    <tr style=\"text-align: right;\">\n",
       "      <th></th>\n",
       "      <th>News</th>\n",
       "      <th>Class</th>\n",
       "    </tr>\n",
       "  </thead>\n",
       "  <tbody>\n",
       "    <tr>\n",
       "      <td>0</td>\n",
       "      <td>ঢাকা, অক্টোবর ০৭ (বিডিনিউজ টোয়েন্টিফোর ডটকম) -...</td>\n",
       "      <td>sports</td>\n",
       "    </tr>\n",
       "    <tr>\n",
       "      <td>1</td>\n",
       "      <td>যে বিশ্বকাপে হামেশাই ৩০০ পেরোনো ইনিংসের দেখা ম...</td>\n",
       "      <td>sports</td>\n",
       "    </tr>\n",
       "    <tr>\n",
       "      <td>2</td>\n",
       "      <td>ক্রিকেটের শ্রেষ্ঠত্ব বিচারের সর্বোচ্চ মঞ্চ হলো...</td>\n",
       "      <td>sports</td>\n",
       "    </tr>\n",
       "    <tr>\n",
       "      <td>3</td>\n",
       "      <td>আট বছর আগের দুঃস্মৃতি আজও বুকে শেল বিঁধিয়ে দে...</td>\n",
       "      <td>sports</td>\n",
       "    </tr>\n",
       "    <tr>\n",
       "      <td>4</td>\n",
       "      <td>ঢাকা, জানুয়ারি ৩০ (বিডিনিউজ টোয়েন্টিফোর ডটকম) ...</td>\n",
       "      <td>sports</td>\n",
       "    </tr>\n",
       "  </tbody>\n",
       "</table>\n",
       "</div>"
      ],
      "text/plain": [
       "                                                News   Class\n",
       "0  ঢাকা, অক্টোবর ০৭ (বিডিনিউজ টোয়েন্টিফোর ডটকম) -...  sports\n",
       "1  যে বিশ্বকাপে হামেশাই ৩০০ পেরোনো ইনিংসের দেখা ম...  sports\n",
       "2  ক্রিকেটের শ্রেষ্ঠত্ব বিচারের সর্বোচ্চ মঞ্চ হলো...  sports\n",
       "3  আট বছর আগের দুঃস্মৃতি আজও বুকে শেল বিঁধিয়ে দে...  sports\n",
       "4  ঢাকা, জানুয়ারি ৩০ (বিডিনিউজ টোয়েন্টিফোর ডটকম) ...  sports"
      ]
     },
     "execution_count": 114,
     "metadata": {},
     "output_type": "execute_result"
    }
   ],
   "source": [
    "df.head()"
   ]
  },
  {
   "cell_type": "code",
   "execution_count": 117,
   "metadata": {},
   "outputs": [
    {
     "data": {
      "text/plain": [
       "(22674, 2)"
      ]
     },
     "execution_count": 117,
     "metadata": {},
     "output_type": "execute_result"
    }
   ],
   "source": [
    "df.shape"
   ]
  },
  {
   "cell_type": "code",
   "execution_count": 118,
   "metadata": {},
   "outputs": [],
   "source": [
    "def remove_html_tags(raw_review):\n",
    "    review_text = BeautifulSoup(raw_review,'lxml').get_text()\n",
    "    return review_text\n",
    "\n",
    "df['News'] = [remove_html_tags(i) for i in df['News']]"
   ]
  },
  {
   "cell_type": "code",
   "execution_count": 132,
   "metadata": {},
   "outputs": [],
   "source": [
    "punctuation_signs = list('!\"#$%&()\\'‘‘*+,’-./:;<=>?@[\\\\]^_`“”{|}~\\t\\n।')\n",
    "\n",
    "for punct_sign in punctuation_signs:\n",
    "    df['News'] = df['News'].str.replace(punct_sign, ' ')"
   ]
  },
  {
   "cell_type": "code",
   "execution_count": 139,
   "metadata": {},
   "outputs": [],
   "source": [
    "def escape_ansi(line):\n",
    "    line = re.sub('[০-৯]+', ' সংখ্যা ', line)\n",
    "    line = re.sub('[0-9]+', ' সংখ্যা ', line)\n",
    "    return line\n",
    "\n",
    "df['News'] = [escape_ansi(i) for i in df['News']]"
   ]
  },
  {
   "cell_type": "code",
   "execution_count": 130,
   "metadata": {},
   "outputs": [],
   "source": [
    "def escape_ansi(line):\n",
    "    line = line.replace('\\n','')\n",
    "    line = line.replace('\\t','')\n",
    "    line = line.replace(\"\\'\",'')\n",
    "    line = line.replace(\"\\\"\",'')\n",
    "    line = line.replace(\"‘\",'')\n",
    "    line = line.replace(\"’\",'')\n",
    "    line = line.replace(\"  \",' ')\n",
    "    line = line.replace(\"\\xa0\",' ')\n",
    "    line = line.replace(\"\\u2008\",' ')\n",
    "    return line\n",
    "\n",
    "df['News'] = [escape_ansi(i) for i in df['News']]"
   ]
  },
  {
   "cell_type": "code",
   "execution_count": 140,
   "metadata": {},
   "outputs": [
    {
     "data": {
      "text/plain": [
       "'সোশ্যাল মার্কেটিং কোম্পানির এসএমসি  সংখ্যা তম বার্ষিক সাধারণ সভা সম্প্রতি প্রতিষ্ঠানটির প্রধান কার্যালয়ে অনুষ্ঠিত হয়েছে এতে সভাপতিত্ব করেন এসএমসি বোর্ড অব ডিরেক্টরসের চেয়ারম্যান মোহাম্মদ আলী সভায় কোম্পানির  সংখ্যা  অর্থবছরের জন্য নতুন অডিটর নিয়োগ দেওয়া ছাড়াও ডিরেক্টরস রিপোর্ট অডিটরস রিপোর্ট অনুমোদন করা হয় বিজ্ঞপ্তি '"
      ]
     },
     "execution_count": 140,
     "metadata": {},
     "output_type": "execute_result"
    }
   ],
   "source": [
    "df['News'][19998]"
   ]
  },
  {
   "cell_type": "code",
   "execution_count": 141,
   "metadata": {},
   "outputs": [
    {
     "name": "stdout",
     "output_type": "stream",
     "text": [
      "[1006, 3072, 3151, 3638, 3746, 4526, 4590, 4717, 8080, 8165, 8211, 8271, 8308, 8313, 8326, 8327, 8335, 8345, 8466, 8480, 8485, 8533, 8535, 8577, 8668, 8683, 8814, 8830, 8847, 8861, 8887, 8929, 8970, 9048, 9209, 9224, 9227, 9266, 9283, 9338, 9346, 9364, 9406, 9409, 9424, 9517, 9528, 9703, 9705, 9834, 9942, 9969, 9978, 10004, 10005, 10146, 10162, 10189, 10235, 10236, 10283, 10313, 10405, 10427, 10463, 10465, 10559, 10619, 10639, 10729, 10748, 10787, 10872, 10879, 10899, 11205, 11225, 12564, 12701, 14270, 14456, 17781, 17796, 17888, 17894, 18039, 18393, 18468, 19170, 19750, 20131, 21286, 21288, 21711, 21967, 22590]\n"
     ]
    }
   ],
   "source": [
    "l = list()\n",
    "for x in range(0, len(df['News'])):\n",
    "    news = df['News'][x]\n",
    "    if(len(news)==0):\n",
    "        l.append(x)\n",
    "print(l)"
   ]
  },
  {
   "cell_type": "code",
   "execution_count": 142,
   "metadata": {},
   "outputs": [],
   "source": [
    "df = df.drop(x for x in l)"
   ]
  },
  {
   "cell_type": "code",
   "execution_count": 144,
   "metadata": {},
   "outputs": [],
   "source": [
    "df.to_csv('./data/data1.csv')"
   ]
  }
 ],
 "metadata": {
  "kernelspec": {
   "display_name": "Python 3",
   "language": "python",
   "name": "python3"
  },
  "language_info": {
   "codemirror_mode": {
    "name": "ipython",
    "version": 3
   },
   "file_extension": ".py",
   "mimetype": "text/x-python",
   "name": "python",
   "nbconvert_exporter": "python",
   "pygments_lexer": "ipython3",
   "version": "3.6.8"
  }
 },
 "nbformat": 4,
 "nbformat_minor": 2
}
