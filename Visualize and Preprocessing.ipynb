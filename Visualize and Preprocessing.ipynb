{
 "cells": [
  {
   "cell_type": "markdown",
   "metadata": {},
   "source": [
    "# Import Packages"
   ]
  },
  {
   "cell_type": "code",
   "execution_count": 677,
   "metadata": {},
   "outputs": [
    {
     "ename": "ModuleNotFoundError",
     "evalue": "No module named 'tensorflow'",
     "output_type": "error",
     "traceback": [
      "\u001b[0;31m---------------------------------------------------------------------------\u001b[0m",
      "\u001b[0;31mModuleNotFoundError\u001b[0m                       Traceback (most recent call last)",
      "\u001b[0;32m<ipython-input-677-7352c8b452d7>\u001b[0m in \u001b[0;36m<module>\u001b[0;34m()\u001b[0m\n\u001b[1;32m     18\u001b[0m \u001b[0;32mfrom\u001b[0m \u001b[0mbs4\u001b[0m \u001b[0;32mimport\u001b[0m \u001b[0mBeautifulSoup\u001b[0m\u001b[0;34m\u001b[0m\u001b[0m\n\u001b[1;32m     19\u001b[0m \u001b[0;34m\u001b[0m\u001b[0m\n\u001b[0;32m---> 20\u001b[0;31m \u001b[0;32mfrom\u001b[0m \u001b[0mtensorflow\u001b[0m\u001b[0;34m.\u001b[0m\u001b[0mpython\u001b[0m\u001b[0;34m.\u001b[0m\u001b[0mkeras\u001b[0m\u001b[0;34m.\u001b[0m\u001b[0mpreprocessing\u001b[0m\u001b[0;34m.\u001b[0m\u001b[0mtext\u001b[0m \u001b[0;32mimport\u001b[0m \u001b[0mTokenizer\u001b[0m\u001b[0;34m\u001b[0m\u001b[0m\n\u001b[0m",
      "\u001b[0;31mModuleNotFoundError\u001b[0m: No module named 'tensorflow'"
     ]
    }
   ],
   "source": [
    "import numpy as np\n",
    "import pandas as pd\n",
    "\n",
    "import os \n",
    "from os import walk\n",
    "from os import path\n",
    "\n",
    "import glob\n",
    "import sys\n",
    "import math\n",
    "import re\n",
    "import bangla\n",
    "\n",
    "%matplotlib inline\n",
    "import matplotlib.pyplot as plt\n",
    "import seaborn as sns\n",
    "\n",
    "from bs4 import BeautifulSoup\n",
    "\n",
    "from tensorflow.python.keras.preprocessing.text import Tokenizer"
   ]
  },
  {
   "cell_type": "markdown",
   "metadata": {},
   "source": [
    "# Declare Paths"
   ]
  },
  {
   "cell_type": "code",
   "execution_count": 646,
   "metadata": {
    "collapsed": true
   },
   "outputs": [],
   "source": [
    "Data = '/media/protik/Drive E/Pipilika/DataSets/Data/'\n",
    "Codes = '/media/protik/Drive E/Pipilika/Codes/News Classification/'"
   ]
  },
  {
   "cell_type": "markdown",
   "metadata": {},
   "source": [
    "# Load DataFrame"
   ]
  },
  {
   "cell_type": "code",
   "execution_count": 647,
   "metadata": {},
   "outputs": [
    {
     "data": {
      "text/html": [
       "<div>\n",
       "<style scoped>\n",
       "    .dataframe tbody tr th:only-of-type {\n",
       "        vertical-align: middle;\n",
       "    }\n",
       "\n",
       "    .dataframe tbody tr th {\n",
       "        vertical-align: top;\n",
       "    }\n",
       "\n",
       "    .dataframe thead th {\n",
       "        text-align: right;\n",
       "    }\n",
       "</style>\n",
       "<table border=\"1\" class=\"dataframe\">\n",
       "  <thead>\n",
       "    <tr style=\"text-align: right;\">\n",
       "      <th></th>\n",
       "      <th>News</th>\n",
       "      <th>Class</th>\n",
       "    </tr>\n",
       "  </thead>\n",
       "  <tbody>\n",
       "    <tr>\n",
       "      <th>0</th>\n",
       "      <td>ঢাকা, অক্টোবর ০৭ (বিডিনিউজ টোয়েন্টিফোর ডটকম) -...</td>\n",
       "      <td>sports</td>\n",
       "    </tr>\n",
       "    <tr>\n",
       "      <th>1</th>\n",
       "      <td>যে বিশ্বকাপে হামেশাই ৩০০ পেরোনো ইনিংসের দেখা ম...</td>\n",
       "      <td>sports</td>\n",
       "    </tr>\n",
       "    <tr>\n",
       "      <th>2</th>\n",
       "      <td>ক্রিকেটের শ্রেষ্ঠত্ব বিচারের সর্বোচ্চ মঞ্চ হলো...</td>\n",
       "      <td>sports</td>\n",
       "    </tr>\n",
       "    <tr>\n",
       "      <th>3</th>\n",
       "      <td>আট বছর আগের দুঃস্মৃতি আজও বুকে শেল বিঁধিয়ে দে...</td>\n",
       "      <td>sports</td>\n",
       "    </tr>\n",
       "    <tr>\n",
       "      <th>4</th>\n",
       "      <td>ঢাকা, জানুয়ারি ৩০ (বিডিনিউজ টোয়েন্টিফোর ডটকম) ...</td>\n",
       "      <td>sports</td>\n",
       "    </tr>\n",
       "  </tbody>\n",
       "</table>\n",
       "</div>"
      ],
      "text/plain": [
       "                                                News   Class\n",
       "0  ঢাকা, অক্টোবর ০৭ (বিডিনিউজ টোয়েন্টিফোর ডটকম) -...  sports\n",
       "1  যে বিশ্বকাপে হামেশাই ৩০০ পেরোনো ইনিংসের দেখা ম...  sports\n",
       "2  ক্রিকেটের শ্রেষ্ঠত্ব বিচারের সর্বোচ্চ মঞ্চ হলো...  sports\n",
       "3  আট বছর আগের দুঃস্মৃতি আজও বুকে শেল বিঁধিয়ে দে...  sports\n",
       "4  ঢাকা, জানুয়ারি ৩০ (বিডিনিউজ টোয়েন্টিফোর ডটকম) ...  sports"
      ]
     },
     "execution_count": 647,
     "metadata": {},
     "output_type": "execute_result"
    }
   ],
   "source": [
    "df = pd.read_csv('{}{}'.format(Data,\"data.csv\"))\n",
    "df.head()"
   ]
  },
  {
   "cell_type": "code",
   "execution_count": 648,
   "metadata": {},
   "outputs": [
    {
     "data": {
      "text/plain": [
       "(22674, 2)"
      ]
     },
     "execution_count": 648,
     "metadata": {},
     "output_type": "execute_result"
    }
   ],
   "source": [
    "df.shape"
   ]
  },
  {
   "cell_type": "markdown",
   "metadata": {},
   "source": [
    "# Analyse Data"
   ]
  },
  {
   "cell_type": "markdown",
   "metadata": {},
   "source": [
    "### Number of News for Each Group"
   ]
  },
  {
   "cell_type": "code",
   "execution_count": 649,
   "metadata": {
    "collapsed": true
   },
   "outputs": [],
   "source": [
    "def bar_plot(l):\n",
    "    keys, counts = np.unique(l, return_counts=True)\n",
    "    plt.barh(keys, counts)\n",
    "    plt.figure(figsize=(15,20))\n",
    "    plt.show()"
   ]
  },
  {
   "cell_type": "code",
   "execution_count": 650,
   "metadata": {},
   "outputs": [
    {
     "data": {
      "image/png": "[encoded data removed]",
      "text/plain": [
       "<Figure size 432x288 with 1 Axes>"
      ]
     },
     "metadata": {},
     "output_type": "display_data"
    },
    {
     "data": {
      "text/plain": [
       "<Figure size 1080x1440 with 0 Axes>"
      ]
     },
     "metadata": {},
     "output_type": "display_data"
    }
   ],
   "source": [
    "classes = df['Class']\n",
    "bar_plot(classes)"
   ]
  },
  {
   "cell_type": "markdown",
   "metadata": {},
   "source": [
    "### Check for NaN Values"
   ]
  },
  {
   "cell_type": "code",
   "execution_count": 651,
   "metadata": {},
   "outputs": [
    {
     "name": "stdout",
     "output_type": "stream",
     "text": [
      "No NaN Value Found\n"
     ]
    }
   ],
   "source": [
    "news_length = df['News'].str.len()\n",
    "news_length = list(news_length)\n",
    "\n",
    "found = False\n",
    "\n",
    "for i in range(0,len(news_length)):\n",
    "    x = news_length[i]\n",
    "    if(np.isnan(x)):\n",
    "        found = True\n",
    "        print(\"Found a NaN value here: \", i)\n",
    "        print(\"Class for this NaN value is: \", df['Class'][i])\n",
    "        \n",
    "if(not found):\n",
    "    print(\"No NaN Value Found\")"
   ]
  },
  {
   "cell_type": "markdown",
   "metadata": {},
   "source": [
    "### News Length Distribution"
   ]
  },
  {
   "cell_type": "code",
   "execution_count": 652,
   "metadata": {},
   "outputs": [
    {
     "data": {
      "text/plain": [
       "<matplotlib.axes._subplots.AxesSubplot at 0x7f3092928eb8>"
      ]
     },
     "execution_count": 652,
     "metadata": {},
     "output_type": "execute_result"
    },
    {
     "data": {
      "image/png": "[encoded data removed]",
      "text/plain": [
       "<Figure size 432x288 with 1 Axes>"
      ]
     },
     "metadata": {},
     "output_type": "display_data"
    }
   ],
   "source": [
    "sns.distplot(df['News'].str.len(), hist=False, kde=True, \n",
    "             bins=int(180/5), color = 'darkblue', \n",
    "             hist_kws={'edgecolor':'darkblue'},\n",
    "             kde_kws={'linewidth': 7})"
   ]
  },
  {
   "cell_type": "markdown",
   "metadata": {},
   "source": [
    "# Preprocessing"
   ]
  },
  {
   "cell_type": "markdown",
   "metadata": {},
   "source": [
    "### Remove HTML Tags"
   ]
  },
  {
   "cell_type": "code",
   "execution_count": 653,
   "metadata": {},
   "outputs": [],
   "source": [
    "def remove_html_tags(raw_review):\n",
    "    review_text = BeautifulSoup(raw_review,'lxml').get_text()\n",
    "    return review_text\n",
    "\n",
    "df['News'] = [remove_html_tags(i) for i in df['News']]"
   ]
  },
  {
   "cell_type": "markdown",
   "metadata": {},
   "source": [
    "### Remove Punctuations, Brackets and Special Characters"
   ]
  },
  {
   "cell_type": "code",
   "execution_count": 654,
   "metadata": {
    "collapsed": true
   },
   "outputs": [],
   "source": [
    "punctuation_signs = list(\"?!,;।:.-(){}[]/\\+-_*@—#$%^<>=~`\")\n",
    "\n",
    "for punct_sign in punctuation_signs:\n",
    "    df['News'] = df['News'].str.replace(punct_sign, ' ')"
   ]
  },
  {
   "cell_type": "markdown",
   "metadata": {},
   "source": [
    "### Remove Escape Characters"
   ]
  },
  {
   "cell_type": "code",
   "execution_count": 655,
   "metadata": {},
   "outputs": [],
   "source": [
    "def escape_ansi(line):\n",
    "    line = line.replace('\\n','')\n",
    "    line = line.replace('\\t','')\n",
    "    line = line.replace(\"\\'\",'')\n",
    "    line = line.replace(\"\\\"\",'')\n",
    "    line = line.replace(\"‘\",'')\n",
    "    line = line.replace(\"’\",'')\n",
    "    line = line.replace(\"  \",' ')\n",
    "    line = line.replace(\"\\xa0\",' ')\n",
    "    line = line.replace(\"\\u2008\",' ')\n",
    "    return line\n",
    "\n",
    "df['News'] = [escape_ansi(i) for i in df['News']]"
   ]
  },
  {
   "cell_type": "markdown",
   "metadata": {},
   "source": [
    "### Remove Numbers"
   ]
  },
  {
   "cell_type": "code",
   "execution_count": 656,
   "metadata": {},
   "outputs": [],
   "source": [
    "def escape_ansi(line):\n",
    "    line = re.sub('[০-৯]+', 'সংখ্যা', line)\n",
    "    line = re.sub('[0-9]+', 'সংখ্যা', line)\n",
    "    return line\n",
    "\n",
    "df['News'] = [escape_ansi(i) for i in df['News']]"
   ]
  },
  {
   "cell_type": "markdown",
   "metadata": {},
   "source": [
    "### Embedding"
   ]
  },
  {
   "cell_type": "code",
   "execution_count": 661,
   "metadata": {},
   "outputs": [],
   "source": [
    "def class_embedding(i):\n",
    "    if(i=='accident and crime'):\n",
    "        return 0\n",
    "    elif(i=='economics'):\n",
    "        return 1\n",
    "    elif(i=='entertainment'):\n",
    "        return 2\n",
    "    elif(i=='international'):\n",
    "        return 3\n",
    "    elif(i=='politics'):\n",
    "        return 4\n",
    "    elif(i=='science'):\n",
    "        return 5\n",
    "    elif(i=='sports'):\n",
    "        return 6\n",
    "    elif(i=='weather'):\n",
    "        return 7\n",
    "        \n",
    "df['Class'] = [class_embedding(i) for i in df['Class']]"
   ]
  },
  {
   "cell_type": "markdown",
   "metadata": {},
   "source": [
    "### Shuffle DataSet"
   ]
  },
  {
   "cell_type": "code",
   "execution_count": 674,
   "metadata": {},
   "outputs": [],
   "source": [
    "df = df.sample(frac=1).reset_index(drop=True)"
   ]
  },
  {
   "cell_type": "code",
   "execution_count": 675,
   "metadata": {},
   "outputs": [
    {
     "data": {
      "text/html": [
       "<div>\n",
       "<style scoped>\n",
       "    .dataframe tbody tr th:only-of-type {\n",
       "        vertical-align: middle;\n",
       "    }\n",
       "\n",
       "    .dataframe tbody tr th {\n",
       "        vertical-align: top;\n",
       "    }\n",
       "\n",
       "    .dataframe thead th {\n",
       "        text-align: right;\n",
       "    }\n",
       "</style>\n",
       "<table border=\"1\" class=\"dataframe\">\n",
       "  <thead>\n",
       "    <tr style=\"text-align: right;\">\n",
       "      <th></th>\n",
       "      <th>News</th>\n",
       "      <th>Class</th>\n",
       "    </tr>\n",
       "  </thead>\n",
       "  <tbody>\n",
       "    <tr>\n",
       "      <th>0</th>\n",
       "      <td>ওয়েস্ট ইন্ডিজ ক্রিকেট বোর্ডের রোষানলে পড়ে সম...</td>\n",
       "      <td>6</td>\n",
       "    </tr>\n",
       "    <tr>\n",
       "      <th>1</th>\n",
       "      <td>মারুফ মল্লিক বিডিনিউজ টোয়েন্টিফোর ডটকম পরিবেশ ...</td>\n",
       "      <td>7</td>\n",
       "    </tr>\n",
       "    <tr>\n",
       "      <th>2</th>\n",
       "      <td>রূপালী লাইফ ইনস্যুরেন্স ফার্স্ট মিউচুয়াল ফান্...</td>\n",
       "      <td>1</td>\n",
       "    </tr>\n",
       "    <tr>\n",
       "      <th>3</th>\n",
       "      <td>থাইল্যান্ডের অপসারিত সাবেক প্রধানমন্ত্রী ইংলাক...</td>\n",
       "      <td>3</td>\n",
       "    </tr>\n",
       "    <tr>\n",
       "      <th>4</th>\n",
       "      <td>মিসরের সংখ্যা জন কপটিক খ্রিষ্টানকে শিরশ্ছেদের ...</td>\n",
       "      <td>3</td>\n",
       "    </tr>\n",
       "    <tr>\n",
       "      <th>5</th>\n",
       "      <td>তিনি টিভির রিয়্যালিটি শোর তারকা কিম কারডাশিয়...</td>\n",
       "      <td>3</td>\n",
       "    </tr>\n",
       "    <tr>\n",
       "      <th>6</th>\n",
       "      <td>বিষ টেলিছবিতে নওশাবা ও মিলন লিখেছেন আবদুল্লাহ ...</td>\n",
       "      <td>2</td>\n",
       "    </tr>\n",
       "    <tr>\n",
       "      <th>7</th>\n",
       "      <td>বাংলাদেশের ক্রিকেটের সবচেয়ে বড় বিজ্ঞাপন সাকি...</td>\n",
       "      <td>6</td>\n",
       "    </tr>\n",
       "    <tr>\n",
       "      <th>8</th>\n",
       "      <td>পাকিস্তানে গত শুক্রবার দুই জঙ্গির মৃত্যুদণ্ড ক...</td>\n",
       "      <td>3</td>\n",
       "    </tr>\n",
       "    <tr>\n",
       "      <th>9</th>\n",
       "      <td>প্রযুক্তিবিষয়ক সাইট দ্য ভার্জ এক প্রতিবেদনে জা...</td>\n",
       "      <td>5</td>\n",
       "    </tr>\n",
       "  </tbody>\n",
       "</table>\n",
       "</div>"
      ],
      "text/plain": [
       "                                                News  Class\n",
       "0  ওয়েস্ট ইন্ডিজ ক্রিকেট বোর্ডের রোষানলে পড়ে সম...      6\n",
       "1  মারুফ মল্লিক বিডিনিউজ টোয়েন্টিফোর ডটকম পরিবেশ ...      7\n",
       "2  রূপালী লাইফ ইনস্যুরেন্স ফার্স্ট মিউচুয়াল ফান্...      1\n",
       "3  থাইল্যান্ডের অপসারিত সাবেক প্রধানমন্ত্রী ইংলাক...      3\n",
       "4  মিসরের সংখ্যা জন কপটিক খ্রিষ্টানকে শিরশ্ছেদের ...      3\n",
       "5  তিনি টিভির রিয়্যালিটি শোর তারকা কিম কারডাশিয়...      3\n",
       "6  বিষ টেলিছবিতে নওশাবা ও মিলন লিখেছেন আবদুল্লাহ ...      2\n",
       "7  বাংলাদেশের ক্রিকেটের সবচেয়ে বড় বিজ্ঞাপন সাকি...      6\n",
       "8  পাকিস্তানে গত শুক্রবার দুই জঙ্গির মৃত্যুদণ্ড ক...      3\n",
       "9  প্রযুক্তিবিষয়ক সাইট দ্য ভার্জ এক প্রতিবেদনে জা...      5"
      ]
     },
     "execution_count": 675,
     "metadata": {},
     "output_type": "execute_result"
    }
   ],
   "source": [
    "df.head(10)"
   ]
  },
  {
   "cell_type": "markdown",
   "metadata": {},
   "source": [
    "### Splitting Train and Test Set"
   ]
  },
  {
   "cell_type": "code",
   "execution_count": 676,
   "metadata": {
    "collapsed": true
   },
   "outputs": [],
   "source": [
    "x_train = df.loc[:17999, 'News'].values\n",
    "y_train = df.loc[:17999, 'Class'].values\n",
    "x_test = df.loc[18000:, 'News'].values\n",
    "y_test = df.loc[18000:, 'Class'].values"
   ]
  },
  {
   "cell_type": "code",
   "execution_count": null,
   "metadata": {
    "collapsed": true
   },
   "outputs": [],
   "source": []
  }
 ],
 "metadata": {
  "kernelspec": {
   "display_name": "Python 3",
   "language": "python",
   "name": "python3"
  },
  "language_info": {
   "codemirror_mode": {
    "name": "ipython",
    "version": 3
   },
   "file_extension": ".py",
   "mimetype": "text/x-python",
   "name": "python",
   "nbconvert_exporter": "python",
   "pygments_lexer": "ipython3",
   "version": "3.6.3"
  }
 },
 "nbformat": 4,
 "nbformat_minor": 2
}
